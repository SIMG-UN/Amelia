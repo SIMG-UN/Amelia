{
 "cells": [
  {
   "cell_type": "markdown",
   "id": "93fb6ea7",
   "metadata": {},
   "source": [
    "# 📄 Archivos FASTA\n",
    "Los archivos FASTA son un formato estándar usado en bioinformática para almacenar secuencias de ADN, ARN o proteínas. Son simples, legibles por humanos y ampliamente compatibles con herramientas genómicas.\n",
    "\n",
    "Cada entrada en un archivo FASTA tiene dos partes:\n",
    "\n",
    "1. Encabezado: comienza con el símbolo > seguido del identificador de la secuencia y una descripción opcional.\n",
    "\n",
    "2. Secuencia: una o varias líneas que contienen la cadena de nucleótidos (A, T, G, C) o aminoácidos.\n",
    "\n",
    "Para hacer la lectura de estos archivos utilizamos la librería **biopython**, una librería de Python especializada en manejo y análisis de datos biológicos. Es open source, gratis y muy usada en la comunidad científica."
   ]
  },
  {
   "cell_type": "raw",
   "id": "717d8359",
   "metadata": {},
   "source": [
    "pip install biopython"
   ]
  },
  {
   "cell_type": "markdown",
   "id": "0e5e67d2",
   "metadata": {},
   "source": [
    "## 1. Protein Sequence\n",
    "Los archivos FASTA de proteínas almacenan secuencias de aminoácidos en formato texto, usando letras que representan cada aminoácido (como M, L, K, G, etc.).\n",
    "### 1.1. Archivos pep.abnitio.fa\n",
    "🔹`.pep`: contiene secuencias de proteínas (aminoácidos).\n",
    "\n",
    "🔹`.abinitio`: las proteínas fueron predichas computacionalmente desde el genoma bruto, sin guiarse por genes conocidos y sin usar ninguna evidencia externa. Las predicciones son realizadas por programas como GENSCAN, AUGUSTUS y GeneMark fundamentados en Modelos Ocultos de Markov (HMMs).\n",
    "\n",
    "🔹`.fa`: es un formato FASTA, usado para representar secuencias biológicas.\n",
    "\n",
    "⚠️ Suelen tener **falsos positivos** o errores en el splicing, marcos de lectura, etc.\n",
    "\n",
    "🧠 Útil para descubrir genes nuevos aún no anotados oficialmente.\n",
    "\n",
    "**Ejemplo:**"
   ]
  },
  {
   "cell_type": "markdown",
   "id": "ad370171",
   "metadata": {},
   "source": [
    "![](ex-pepseq-fa-abnitio.png)"
   ]
  },
  {
   "cell_type": "markdown",
   "id": "813b4888",
   "metadata": {},
   "source": [
    "🔹`GENSCAN00000000001` : Identificador de la predicción hecha con la herramienta GENSCAN.\n",
    "\n",
    "🔹`pep` : Significa que es una secuencia proteica.\n",
    "\n",
    "🔹`chromosome:GRCh38:5:122151991:122153085:1`: Versión del genoma GRCh38, cromosoma 5, en el sentido positivo (1).\n",
    "\n",
    "🔹`122151991:122153085`: Posición inicial y final.\n",
    "\n",
    "🔹`transcript_biotype:protein_coding`: Este transcripto codifica una proteína.\n",
    "\n",
    "🔹`MERGKKKRISNKLQQTFHHSKEPTF…` : Cada letra representa un aminoácido (M = metionina, E = glutamato, etc.). \n",
    "\n",
    "**Nota:** Existen 20 aminoácidos proteicos estándar y otros aminoacidos modificados postraduccionalmente (fosforilados, metilados, etc.) que no cambian la secuencia genética, pero sí la función de la proteína."
   ]
  },
  {
   "cell_type": "markdown",
   "id": "f61f0deb",
   "metadata": {},
   "source": [
    "### Lectura"
   ]
  },
  {
   "cell_type": "code",
   "execution_count": 9,
   "id": "88a94979",
   "metadata": {
    "scrolled": true
   },
   "outputs": [
    {
     "name": "stdout",
     "output_type": "stream",
     "text": [
      "ID: GENSCAN00000000001\n",
      "\n",
      "Descripción: GENSCAN00000000001 pep chromosome:GRCh38:5:122151991:122153085:1 transcript:GENSCAN00000000001 transcript_biotype:protein_coding\n",
      "\n",
      "Secuencia: MERGKKKRISNKLQQTFHHSKEPTFLINQAGLLSSDSYSSLSPETESVNPGENIKTDTQKKRPGTVILSKLSSRRIISESQLSPPVIPARRPGFRVCYICGREFGSQSIAIHEPQCLQKWHIENSKLPKHLRRPEPSKPQSLSSSGSYSLQATNEAAFQSAQAQLLPCESCGRTFLPDHLLVHHRSCKPKGEGPRAPHSNSSDHLTGLKKACSGTPARPRTVICYICGKEFGTLSLPIHEPKCLEKWKMENDRLPVELHQPLPQKPQPLPNAQSSQAGPNQAQLVFCPHCSRIFTSDRLLVHQRSCKTHPYGPKYQNLNLGSKGGLKEYTNSKQQRNRAAPSVTDKVIHATQDALGEPGGALCL\n",
      "\n",
      "Longitud: 364\n",
      "\n",
      "----------------------------------------\n",
      "ID: GENSCAN00000000002\n",
      "\n",
      "Descripción: GENSCAN00000000002 pep chromosome:GRCh38:5:122675795:122676286:1 transcript:GENSCAN00000000002 transcript_biotype:protein_coding\n",
      "\n",
      "Secuencia: MMNRMAPENFQPDPFINRNDSNMKYEELEALFSQTMFPDRNLQEKLALKRNLLESTGKGLVQELAIQIEAAAAAAAAAAISKASKPDPFIQEECAHLP\n",
      "\n",
      "Longitud: 98\n",
      "\n",
      "----------------------------------------\n",
      "ID: GENSCAN00000000003\n",
      "\n",
      "Descripción: GENSCAN00000000003 pep chromosome:GRCh38:5:121876146:121916483:-1 transcript:GENSCAN00000000003 transcript_biotype:protein_coding\n",
      "\n",
      "Secuencia: MDDSKGNGKRAKIRGKGPKIFLKSLLATLPNTSYVCASEPQLSPYLCEFFPGVNLLDVEHDRTNTGEQQSSKQMIVLHTKEVGMDIG\n",
      "\n",
      "Longitud: 87\n",
      "\n",
      "----------------------------------------\n",
      "ID: GENSCAN00000000004\n",
      "\n",
      "Descripción: GENSCAN00000000004 pep chromosome:GRCh38:5:122174100:122189697:-1 transcript:GENSCAN00000000004 transcript_biotype:protein_coding\n",
      "\n",
      "Secuencia: MKEYLDHGALEFLLQQKQWSCFDSTAQWWAEGGNGDCRRNLDGEIDAEGSKREMKALKSSDVLIIFSVSALFRGSCNNSTIPDYAVIVFFLQLMERNMTSSTDSCQGFPIWPLSPVQGFPIGPFSDRSGYVGDGEKERKEETVALAEPAEGPLLANVQSVAFSGMA\n",
      "\n",
      "Longitud: 166\n",
      "\n",
      "----------------------------------------\n"
     ]
    }
   ],
   "source": [
    "from Bio import SeqIO\n",
    "\n",
    "archivo = \"ex-proteinseq-abnitio.fa\"\n",
    "records_iterator = SeqIO.parse(archivo, \"fasta\")\n",
    "\n",
    "for i in range(4):\n",
    "    record = next(records_iterator)\n",
    "    print(f\"ID: {record.id}\\n\")\n",
    "    print(f\"Descripción: {record.description}\\n\")\n",
    "    print(f\"Secuencia: {record.seq}\\n\")\n",
    "    print(f\"Longitud: {len(record.seq)}\\n\")\n",
    "    print(\"-\" * 40)"
   ]
  },
  {
   "cell_type": "markdown",
   "id": "7e333283",
   "metadata": {},
   "source": [
    "### 1.2. Archivos pep.all.fa"
   ]
  },
  {
   "cell_type": "markdown",
   "id": "68f62753",
   "metadata": {},
   "source": [
    "🔹`.pep` : Peptide (proteína).\n",
    "\n",
    "🔹`.all` : Incluye *todas* las transcripciones anotadas (de todos los genes y todos los isoformas).\n",
    "\n",
    "🔹`.fa`: Formato estándar para secuencias.\n",
    "\n",
    "Contiene **todas las proteínas conocidas y predichas**, incluyendo predicciones ab initio, genes anotados con evidencia experimental, transcritos conocidos (de RNA-seq, ESTs, etc.).\n",
    "\n",
    "Es una colección más completa y confiable. Incluye lo que viene en `.pep.abinitio.fa`, más otras fuentes de evidencia.\n",
    "\n",
    "🧠 Útil para tener todas las posibles proteínas de una especie para análisis como alineamientos, anotaciones funcionales, etc.\n",
    "\n",
    "**Ejemplo:**"
   ]
  },
  {
   "cell_type": "markdown",
   "id": "3dea3f77",
   "metadata": {},
   "source": [
    "![](ex-pepseq-fa-all.png)"
   ]
  },
  {
   "cell_type": "markdown",
   "id": "3816340d",
   "metadata": {},
   "source": [
    "🔹`ENSP00000451468.1` : ID de la proteína en Ensembl.\n",
    "\n",
    "🔹`pep` : Significa que es una secuencia proteica.\n",
    "\n",
    "🔹`chromosome:GRCh38:14:22462932:22465787:1` : Versión del genoma GRCh38, cromosoma 14, en el sentido positivo (1).\n",
    "\n",
    "🔹`22462932:22465787` : Posición inicial y final.\n",
    "\n",
    "🔹`gene:ENSG00000211829.9` : ID del gen.\n",
    "\n",
    "🔹`transcript:ENST00000390477.2` : ID del transcrito que la codifica.\n",
    "\n",
    "🔹`gene_biotype:TR_C_gen` : Tipo de gen: T-cell receptor constant (C).\n",
    "\n",
    "🔹`gene_symbol:TRDC` : Nombre simbólico del gen: TRDC.\n",
    "\n",
    "🔹`description` : Breve descripción funcional del gen. \n",
    "\n",
    "🔹`T cell receptor delta constant` : Nombre funcional de la proteína: la región constante del receptor T delta (TRD). Este receptor es parte del sistema inmune y está en ciertas células T (las llamadas γδ T cells).\n",
    "\n",
    "🔹`Source` : Esto dice de dónde viene esta descripción.\n",
    "\n",
    "🔹`HGNC Symbol` :  Indica que “TRDC” es el símbolo aprobado por HGNC (**HUGO Gene Nomenclature Committee**, la autoridad oficial para dar nombres a los genes humanos).\n",
    "\n",
    "🔹`Acc:HGNC:12253` : es el código de acceso único de ese gen en HGNC.\n",
    "\n",
    "🔹`XSQPHTKPSVFVMKNGTNVACLV…` : Secuencia de aminoácidos. Cada letra representa un aminoácido."
   ]
  },
  {
   "cell_type": "markdown",
   "id": "e0aca2ea",
   "metadata": {},
   "source": [
    "### Lectura"
   ]
  },
  {
   "cell_type": "code",
   "execution_count": 10,
   "id": "baf1bd44",
   "metadata": {},
   "outputs": [
    {
     "name": "stdout",
     "output_type": "stream",
     "text": [
      "ID: ENSP00000451468.1/n\n",
      "Descripción: ENSP00000451468.1 pep chromosome:GRCh38:14:22462932:22465787:1 gene:ENSG00000211829.9 transcript:ENST00000390477.2 gene_biotype:TR_C_gene transcript_biotype:TR_C_gene gene_symbol:TRDC description:T cell receptor delta constant [Source:HGNC Symbol;Acc:HGNC:12253]\n",
      "\n",
      "Secuencia: XSQPHTKPSVFVMKNGTNVACLVKEFYPKDIRINLVSSKKITEFDPAIVISPSGKYNAVKLGKYEDSNSVTCSVQHDNKTVHSTDFEVKTDSTDHVKPKETENTKQPSKSCHKPKAIVHTEKVNMMSLTVLGLRMLFAKTVAVNFLLTAKLFFL\n",
      "\n",
      "Longitud: 154\n",
      "\n",
      "----------------------------------------\n",
      "ID: ENSP00000480116.1/n\n",
      "Descripción: ENSP00000480116.1 pep chromosome:GRCh38:14:22547506:22552156:1 gene:ENSG00000277734.8 transcript:ENST00000611116.2 gene_biotype:TR_C_gene transcript_biotype:TR_C_gene gene_symbol:TRAC description:T cell receptor alpha constant [Source:HGNC Symbol;Acc:HGNC:12029]\n",
      "\n",
      "Secuencia: XIQNPDPAVYQLRDSKSSDKSVCLFTDFDSQTNVSQSKDSDVYITDKTVLDMRSMDFKSNSAVAWSNKSDFACANAFNNSIIPEDTFFPSPESSCDVKLVEKSFETDTNLNFQNLSVIGFRILLLKVAGFNLLMTLRLWSS\n",
      "\n",
      "Longitud: 141\n",
      "\n",
      "----------------------------------------\n",
      "ID: ENSP00000487742.1/n\n",
      "Descripción: ENSP00000487742.1 pep chromosome:GRCh38:7:142791694:142793368:1 gene:ENSG00000211751.9 transcript:ENST00000633705.1 gene_biotype:TR_C_gene transcript_biotype:TR_C_gene gene_symbol:TRBC1 description:T cell receptor beta constant 1 [Source:HGNC Symbol;Acc:HGNC:12156]\n",
      "\n",
      "Secuencia: XDLNKVFPPEVAVFEPSEAEISHTQKATLVCLATGFFPDHVELSWWVNGKEVHSGVSTDPQPLKEQPALNDSRYCLSSRLRVSATFWQNPRNHFRCQVQFYGLSENDEWTQDRAKPVTQIVSAEAWGRADCGFTSVSYQQGVLSATILYEILLGKATLYAVLVSALVLMAMVKRKDF\n",
      "\n",
      "Longitud: 177\n",
      "\n",
      "----------------------------------------\n",
      "ID: ENSP00000488819.1/n\n",
      "Descripción: ENSP00000488819.1 pep scaffold:GRCh38:HSCHR7_2_CTG6:814667:816341:1 gene:ENSG00000281981.2 transcript:ENST00000632136.1 gene_biotype:TR_C_gene transcript_biotype:TR_C_gene gene_symbol:TRBC1 description:T cell receptor beta constant 1 [Source:HGNC Symbol;Acc:HGNC:12156]\n",
      "\n",
      "Secuencia: XDLNKVFPPEVAVFEPSEAEISHTQKATLVCLATGFFPDHVELSWWVNGKEVHSGVSTDPQPLKEQPALNDSRYCLSSRLRVSATFWQNPRNHFRCQVQFYGLSENDEWTQDRAKPVTQIVSAEAWGRADCGFTSVSYQQGVLSATILYEILLGKATLYAVLVSALVLMAMVKRKDF\n",
      "\n",
      "Longitud: 177\n",
      "\n",
      "----------------------------------------\n"
     ]
    }
   ],
   "source": [
    "from Bio import SeqIO\n",
    "\n",
    "archivo = \"ex-proteinseq-all.fa\"\n",
    "records_iterator = SeqIO.parse(archivo, \"fasta\")\n",
    "\n",
    "for i in range(4):\n",
    "    record = next(records_iterator)\n",
    "    print(f\"ID: {record.id}/n\")\n",
    "    print(f\"Descripción: {record.description}\\n\")\n",
    "    print(f\"Secuencia: {record.seq}\\n\")\n",
    "    print(f\"Longitud: {len(record.seq)}\\n\")\n",
    "    print(\"-\" * 40)"
   ]
  },
  {
   "cell_type": "markdown",
   "id": "205be7b0",
   "metadata": {},
   "source": [
    "**Notebook desarrollado por:** Mar (Grupo Amelia)  \n",
    "**GitHub:** [@marsilvaa](https://github.com/marsilvaa)   \n",
    "**Fecha:** Mayo 2025\n",
    "\n",
    "Este notebook forma parte del trabajo colaborativo del Semillero Investigativo de Modelos Generativos. \n",
    "Todos los derechos pertenecen a la organización y sus integrantes."
   ]
  }
 ],
 "metadata": {
  "kernelspec": {
   "display_name": "Python 3 (ipykernel)",
   "language": "python",
   "name": "python3"
  },
  "language_info": {
   "codemirror_mode": {
    "name": "ipython",
    "version": 3
   },
   "file_extension": ".py",
   "mimetype": "text/x-python",
   "name": "python",
   "nbconvert_exporter": "python",
   "pygments_lexer": "ipython3",
   "version": "3.11.5"
  }
 },
 "nbformat": 4,
 "nbformat_minor": 5
}
