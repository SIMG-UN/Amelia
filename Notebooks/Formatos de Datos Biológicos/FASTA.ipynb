{
 "cells": [
  {
   "cell_type": "markdown",
   "id": "93fb6ea7",
   "metadata": {},
   "source": [
    "# 📄 Archivos FASTA\n",
    "\n",
    "Los archivos FASTA son un formato estándar usado en bioinformática para almacenar secuencias de ADN, ARN o proteínas. Son simples, legibles por humanos y ampliamente compatibles con herramientas genómicas.\n",
    "\n",
    "Cada entrada en un archivo FASTA tiene dos partes:\n",
    "\n",
    "1. Encabezado: comienza con el símbolo > seguido del identificador de la secuencia y una descripción opcional.\n",
    "\n",
    "2. Secuencia: una o varias líneas que contienen la cadena de nucleótidos o aminoácidos.\n",
    "\n",
    "Para hacer la lectura de estos archivos utilizamos la librería `biopython`, una librería de Python especializada en manejo y análisis de datos biológicos. Es open source, gratis y muy usada en la comunidad científica."
   ]
  },
  {
   "cell_type": "raw",
   "id": "717d8359",
   "metadata": {},
   "source": [
    "pip install biopython"
   ]
  },
  {
   "cell_type": "markdown",
   "id": "ccb74f21",
   "metadata": {},
   "source": [
    "## 1. Archivos FASTA .dna\n",
    "Contienen la secuencia de ADN (A, T, C, G) en letras mayúsculas, sin espacios ni números.\n",
    "\n",
    "**Ejemplo 1.1.**"
   ]
  },
  {
   "cell_type": "code",
   "execution_count": 35,
   "id": "d4f17628",
   "metadata": {},
   "outputs": [
    {
     "name": "stdout",
     "output_type": "stream",
     "text": [
      "ID: MT\n",
      "\n",
      "Descripción: MT dna_rm:chromosome chromosome:GRCh38:MT:1:16569:1 REF\n",
      "\n",
      "Longitud: 2880\n",
      "\n",
      "Secuencia: GATCACAGGTCTATCACCCTATTAACCACTCACGGGAGCTCTCCATGCATTTGGTATTTTCGTCTGGGGGGTATGCACGCGATAGCATTGCGAGACGCTGGAGCCGGAGCACCCTATGTCGCAGTATCTGTCTTTGATTCCTGCCTCATCCTATTATTTATCGCACCTACGTTCAATATTACAGGCGAACATACTTACTAAAGTGTGTTAATTAATTAATGCTTGTAGGACATAATAATAACAATTGAATGTCTGCACAGCCACTTTCCACACAGACATCATAACAAAAAATTTCCACCAAANNNNNNNNNNNNNGCTTCTGGCCACAGCACTTAAACACATCTCTGCCAAACCCCAAAAACAAAGAACCCTAACACCAGCCTAACCAGATTTCAAATTTTATCTTTTGGCGGTATGCACTTTTAACAGTCACCCCCCAACTAACACATTATTTTCCCCTCCCACTCCCATACTACTAATCTCATCAATACAACCCCCGCCCATCCTACCCAGCACACACACACCGCTGCTAACCCCATACCCCGAACCAACCAAACCCCAAAGACACCCCCCACAGTTTATGTAGCTTACCTCCTCAAAGCAATACACTGAAAATGTTTAGACGGGCTCACATCACCCCATAAACAAATAGGTTTGGTCCTAGCCTTTCTATTAGCTCTTAGTAAGATTACACATGCAAGCATCCCCGTTCCAGTGAGTTCACCCTCTAAATCACCACGATCAAAAGGAACAAGCATCAAGCACGCAGCAATGCAGCTCAAAACGCTTAGCCTAGCCACACCCCCACGGGAAACAGCAGTGATTAACCTTTAGCAATAAACGAAAGTTTAACTAAGCTATACTAACCCCAGGGTTGGTCAATTTCGTGCCAGCCACCGCGGTCACACGATTAACCCAAGTCAATAGAAGCCGGCGTAAAGAGTGTTTTAGATCACCCCCTCCCCAATAAAGCTAAAACTCACCTGAGTTGTAAAAAACTCCAGTTGACACAAAATAGACTACGAAAGTGGCTTTAACATATCTGAACACACAATAGCTAAGACCCAAACTGGGATTAGATACCCCACTATGCTTAGCCCTAAACCTCAACAGTTAAATCAACAAAACTGCTCGCCAGAACACTACGAGCCACAGCTTAAAACTCAAAGGACCTGGCGGTGCTTCATATCCCTCTAGAGGAGCCTGTTCTGTAATCGATAAACCCCGATCAACCTCACCACCTCTTGCTCAGCCTATATACCGCCATCTTCAGCAAACCCTGATGAAGGCTACAAAGTAAGCGCAAGTACCCACGTAAAGACGTTAGGTCAAGGTGTAGCCCATGAGGTGGCAAGAAATGGGCTACATTTTCTACCCCAGAAAACTACGATAGCCCTTATGAAACTTAAGGGTCGAAGGTGGATTTAGCAGTAAACTAAGAGTAGAGTGCTTAGTTGAACAGGGCCCTGAAGCGCGTACACACCGCCCGTCACCCTCCTCAAGTATACTTCAAAGGACATTTAACTAAAACCCCTACGCATTTATATAGAGGAGACAAGTCGTAACATGGTAAGTGTACTGGAAAGTGCACTTGGACGAACCAGAGTGTAGCTTAACACAAAGCACCCAACTTACACTTAGGAGATTTCAACTTAACTTGACCGCTCTGAGCTAAACCTAGCCCCAAACCCACTCCACCTTACTACCAGACAACCTTAGCCAAACCATTTACCCAAATAAAGTATAGGCGATAGAAATTGAAACCTGGCGCAATAGATATAGTACCGCAAGGGAAAGATGAAAAATTATAACCAAGCATAATATAGCAAGGACTAACCCCTATACCTTCTGCATAATGAATTAACTAGAAATAACTTTGCAAGGAGAGCCAAAGCTAAGACCCCCGAAACCAGACGAGCTACCTAAGAACAGCTAAAAGAGCACACCCGTCTATGTAGCAAAATAGTGGGAAGATTTATAGGTAGAGGCGACAAACCTACCGAGCCTGGTGATAGCTGGTTGTCCAAGATAGAATCTTAGTTCAACTTTAAATTTGCCCACAGAACCCTCTAAATCCCCTTGTAAATTTAACTGTTAGTCCAAAGAGGAACAGCTCTTTGGACACTAGGAAAAAACCTTGTAGAGAGAGTAAAAAATTTAACACCCATAGTAGGCCTAAAAGCAGCCACCAATTAAGAAAGCGTTCAAGCTCAACACCCACTACCTAAAAAATCCCAAACATATAACTGAACTCCTCACACCCAATTGGACCAATCTATCACCCTATAGAAGAACTAATGTTAGTATAAGTAACATGAAAACATTCTCCTCCGCATAAGCCTGCGTCAGATTAAAACACTGAACTGACAATTAACAGCCCAATATCTACAATCAACCAACAAGTCATTATTACCCTCACTGTCAACCCAACACAGGCATGCTCATAAGGAAAGGTTAAAAAAAGTAAAAGGAACTCGGCAAATCTTACCCCGCCTGTTTACCAAAAACATCACCTCTAGCATCACCAGTATTAGAGGCACCGCCTGCCCAGTGACACATGTTTAACGGCCGCGGTACCCTAACCGTGCANNNNNNNNNNNNNNNNNNNNNNNNNNNNNNNNNNNNNNNNNNNNNNNNNNNNNNNNNNNNNNNNNNNNNNNNNNNNNNNNNNNNNNNNNNNNNNNNNNNNNNNNNNNNNNNNNNNNNNNNNNNNNNNNNNNNNNNNNNNNNNNNNNNNNNNNNNNNTTAATGCAAACAGTACCTAACAAACCCACAGGTCCTAAACTACCAAACCTGCATTAAAAATTTCGGTTGGGGCGACCTCGGAGCAGAACCCAACCTCCGAGCAGTACATGCTAAGACTTCACCAGTCAAAGCGAA\n"
     ]
    }
   ],
   "source": [
    "from Bio import SeqIO\n",
    "\n",
    "archivo = 'ex-dnaseq-rmmt.fa' # Dataset tomado de https://www.ensembl.org/index.html\n",
    "records_iterator = SeqIO.parse(archivo, \"fasta\")\n",
    "\n",
    "record = next(records_iterator)\n",
    "print(f'ID: {record.id}\\n')\n",
    "print(f\"Descripción: {record.description}\\n\")\n",
    "print(f\"Longitud: {len(record.seq)}\\n\")\n",
    "print(f'Secuencia: {record.seq}')"
   ]
  },
  {
   "cell_type": "markdown",
   "id": "131d76a2",
   "metadata": {},
   "source": [
    "Para tener en cuenta:\n",
    "\n",
    "🔹`MT`: Se refiere al ADN mitocondrial (Mitochondrial DNA).\n",
    "\n",
    "🔹`dna_rm`: ADN con repeticiones enmascaradas (repeat masked), es decir, secuencias repetitivas han sido \"ocultas\" para ciertos análisis.\n",
    "\n",
    "🔹`GRCh38`: Genoma de referencia.\n",
    "\n",
    "🔹`1:16569:1`: Coordenadas de la secuencia (posición 1 a 16569), hebra positiva (1).\n",
    "\n",
    "🔹`REF`: Es la secuencia de referencia del genoma (no es una variante ni una muestra específica, sino la base de comparación)."
   ]
  },
  {
   "cell_type": "markdown",
   "id": "f42c5630",
   "metadata": {},
   "source": [
    "## 2. Archivos FASTA .cds\n",
    "Un archivo CDS (Coding Sequences) contiene las secuencias codificantes de genes, es decir, las partes del ADN que se traducen en proteínas, por ende solo incluye los exones.\n",
    "\n",
    "**Ejemplo 2.1**"
   ]
  },
  {
   "cell_type": "code",
   "execution_count": 30,
   "id": "f903062f",
   "metadata": {},
   "outputs": [
    {
     "name": "stdout",
     "output_type": "stream",
     "text": [
      "ID: ENST00000390477.2\n",
      "\n",
      "Descripción: ENST00000390477.2 cds chromosome:GRCh38:14:22462932:22465787:1 gene:ENSG00000211829.9 gene_biotype:TR_C_gene transcript_biotype:TR_C_gene gene_symbol:TRDC description:T cell receptor delta constant [Source:HGNC Symbol;Acc:HGNC:12253]\n",
      "\n",
      "Longitud: 465\n",
      "\n",
      "Secuencia: NGAAGTCAGCCTCATACCAAACCATCCGTTTTTGTCATGAAAAATGGAACAAATGTCGCTTGTCTGGTGAAGGAATTCTACCCCAAGGATATAAGAATAAATCTCGTGTCATCCAAGAAGATAACAGAGTTTGATCCTGCTATTGTCATCTCTCCCAGTGGGAAGTACAATGCTGTCAAGCTTGGTAAATATGAAGATTCAAATTCAGTGACATGTTCAGTTCAACACGACAATAAAACTGTGCACTCCACTGACTTTGAAGTGAAGACAGATTCTACAGATCACGTAAAACCAAAGGAAACTGAAAACACAAAGCAACCTTCAAAGAGCTGCCATAAACCCAAAGCCATAGTTCATACCGAGAAGGTGAACATGATGTCCCTCACAGTGCTTGGGCTACGAATGCTGTTTGCAAAGACTGTTGCCGTCAATTTTCTCTTGACTGCCAAGTTATTTTTCTTGTAA\n",
      "\n",
      "----------------------------------------\n",
      "ID: ENST00000611116.2\n",
      "\n",
      "Descripción: ENST00000611116.2 cds chromosome:GRCh38:14:22547506:22552156:1 gene:ENSG00000277734.8 gene_biotype:TR_C_gene transcript_biotype:TR_C_gene gene_symbol:TRAC description:T cell receptor alpha constant [Source:HGNC Symbol;Acc:HGNC:12029]\n",
      "\n",
      "Longitud: 426\n",
      "\n",
      "Secuencia: NATATCCAGAACCCTGACCCTGCCGTGTACCAGCTGAGAGACTCTAAATCCAGTGACAAGTCTGTCTGCCTATTCACCGATTTTGATTCTCAAACAAATGTGTCACAAAGTAAGGATTCTGATGTGTATATCACAGACAAAACTGTGCTAGACATGAGGTCTATGGACTTCAAGAGCAACAGTGCTGTGGCCTGGAGCAACAAATCTGACTTTGCATGTGCAAACGCCTTCAACAACAGCATTATTCCAGAAGACACCTTCTTCCCCAGCCCAGAAAGTTCCTGTGATGTCAAGCTGGTCGAGAAAAGCTTTGAAACAGATACGAACCTAAACTTTCAAAACCTGTCAGTGATTGGGTTCCGAATCCTCCTCCTGAAAGTGGCCGGGTTTAATCTGCTCATGACGCTGCGGCTGTGGTCCAGCTGA\n",
      "\n",
      "----------------------------------------\n",
      "ID: ENST00000633705.1\n",
      "\n",
      "Descripción: ENST00000633705.1 cds chromosome:GRCh38:7:142791694:142793368:1 gene:ENSG00000211751.9 gene_biotype:TR_C_gene transcript_biotype:TR_C_gene gene_symbol:TRBC1 description:T cell receptor beta constant 1 [Source:HGNC Symbol;Acc:HGNC:12156]\n",
      "\n",
      "Longitud: 534\n",
      "\n",
      "Secuencia: NAGGACCTGAACAAGGTGTTCCCACCCGAGGTCGCTGTGTTTGAGCCATCAGAAGCAGAGATCTCCCACACCCAAAAGGCCACACTGGTGTGCCTGGCCACAGGCTTCTTCCCTGACCACGTGGAGCTGAGCTGGTGGGTGAATGGGAAGGAGGTGCACAGTGGGGTCAGCACGGACCCGCAGCCCCTCAAGGAGCAGCCCGCCCTCAATGACTCCAGATACTGCCTGAGCAGCCGCCTGAGGGTCTCGGCCACCTTCTGGCAGAACCCCCGCAACCACTTCCGCTGTCAAGTCCAGTTCTACGGGCTCTCGGAGAATGACGAGTGGACCCAGGATAGGGCCAAACCCGTCACCCAGATCGTCAGCGCCGAGGCCTGGGGTAGAGCAGACTGTGGCTTTACCTCGGTGTCCTACCAGCAAGGGGTCCTGTCTGCCACCATCCTCTATGAGATCCTGCTAGGGAAGGCCACCCTGTATGCTGTGCTGGTCAGCGCCCTTGTGTTGATGGCCATGGTCAAGAGAAAGGATTTCTGA\n",
      "\n",
      "----------------------------------------\n"
     ]
    }
   ],
   "source": [
    "from Bio import SeqIO\n",
    "\n",
    "archivo = \"ex-cdsseq-all.fa\" # Dataset tomado de https://www.ensembl.org/index.html\n",
    "records_iterator = SeqIO.parse(archivo, \"fasta\")\n",
    "\n",
    "for i in range(3):\n",
    "    record = next(records_iterator)\n",
    "    print(f\"ID: {record.id}\\n\")\n",
    "    print(f\"Descripción: {record.description}\\n\")\n",
    "    print(f\"Longitud: {len(record.seq)}\\n\")\n",
    "    print(f\"Secuencia: {record.seq}\\n\")\n",
    "    print(\"-\" * 40)"
   ]
  },
  {
   "cell_type": "markdown",
   "id": "781790ef",
   "metadata": {},
   "source": [
    "Para tener en cuenta:\n",
    "\n",
    "🔹`ENSTX.Y`: ID del gen en Ensemble (versión Y).\n",
    "\n",
    "🔹`chromosome:GRCh38:7`: Genoma de referencia GRCh38, cromosoma 7.\n",
    "\n",
    "🔹`142791694:142793368:1`: Coordenadas de la secuencia, hebra positiva (1).\n",
    "\n",
    "🔹 `description:T cell receptor beta constant 1` : Está asociado al receptor beta de células T (parte del sistema inmune)."
   ]
  },
  {
   "cell_type": "markdown",
   "id": "0e5e67d2",
   "metadata": {},
   "source": [
    "## 3. Archivos FASTA .pep\n",
    "Los archivos FASTA de proteínas almacenan secuencias de aminoácidos en formato texto, usando letras que representan cada aminoácido (como M, L, K, G, etc.).\n",
    "\n",
    "**Ejemplo 3.1**\n",
    "\n",
    "Este es un archivo `.pep.abnitio.fa`; contiene secuencias de proteínas que fueron predichas computacionalmente desde el genoma bruto, sin guiarse por genes conocidos y sin usar ninguna evidencia externa. Las predicciones son realizadas por programas como GENSCAN, AUGUSTUS y GeneMark fundamentados en Modelos Ocultos de Markov (HMMs)."
   ]
  },
  {
   "cell_type": "code",
   "execution_count": 29,
   "id": "88a94979",
   "metadata": {
    "scrolled": true
   },
   "outputs": [
    {
     "name": "stdout",
     "output_type": "stream",
     "text": [
      "ID: GENSCAN00000000001\n",
      "\n",
      "Descripción: GENSCAN00000000001 pep chromosome:GRCh38:5:122151991:122153085:1 transcript:GENSCAN00000000001 transcript_biotype:protein_coding\n",
      "\n",
      "Longitud: 364\n",
      "\n",
      "Secuencia: MERGKKKRISNKLQQTFHHSKEPTFLINQAGLLSSDSYSSLSPETESVNPGENIKTDTQKKRPGTVILSKLSSRRIISESQLSPPVIPARRPGFRVCYICGREFGSQSIAIHEPQCLQKWHIENSKLPKHLRRPEPSKPQSLSSSGSYSLQATNEAAFQSAQAQLLPCESCGRTFLPDHLLVHHRSCKPKGEGPRAPHSNSSDHLTGLKKACSGTPARPRTVICYICGKEFGTLSLPIHEPKCLEKWKMENDRLPVELHQPLPQKPQPLPNAQSSQAGPNQAQLVFCPHCSRIFTSDRLLVHQRSCKTHPYGPKYQNLNLGSKGGLKEYTNSKQQRNRAAPSVTDKVIHATQDALGEPGGALCL\n",
      "\n",
      "----------------------------------------\n",
      "ID: GENSCAN00000000002\n",
      "\n",
      "Descripción: GENSCAN00000000002 pep chromosome:GRCh38:5:122675795:122676286:1 transcript:GENSCAN00000000002 transcript_biotype:protein_coding\n",
      "\n",
      "Longitud: 98\n",
      "\n",
      "Secuencia: MMNRMAPENFQPDPFINRNDSNMKYEELEALFSQTMFPDRNLQEKLALKRNLLESTGKGLVQELAIQIEAAAAAAAAAAISKASKPDPFIQEECAHLP\n",
      "\n",
      "----------------------------------------\n",
      "ID: GENSCAN00000000003\n",
      "\n",
      "Descripción: GENSCAN00000000003 pep chromosome:GRCh38:5:121876146:121916483:-1 transcript:GENSCAN00000000003 transcript_biotype:protein_coding\n",
      "\n",
      "Longitud: 87\n",
      "\n",
      "Secuencia: MDDSKGNGKRAKIRGKGPKIFLKSLLATLPNTSYVCASEPQLSPYLCEFFPGVNLLDVEHDRTNTGEQQSSKQMIVLHTKEVGMDIG\n",
      "\n",
      "----------------------------------------\n"
     ]
    }
   ],
   "source": [
    "from Bio import SeqIO\n",
    "\n",
    "archivo = \"ex-proteinseq-abnitio.fa\" # Dataset tomado de https://www.ensembl.org/index.html\n",
    "records_iterator = SeqIO.parse(archivo, \"fasta\")\n",
    "\n",
    "for i in range(3):\n",
    "    record = next(records_iterator)\n",
    "    print(f\"ID: {record.id}\\n\")\n",
    "    print(f\"Descripción: {record.description}\\n\")\n",
    "    print(f\"Longitud: {len(record.seq)}\\n\")\n",
    "    print(f\"Secuencia: {record.seq}\\n\")\n",
    "    print(\"-\" * 40)"
   ]
  },
  {
   "cell_type": "markdown",
   "id": "813b4888",
   "metadata": {},
   "source": [
    "Para tener en cuenta:\n",
    "\n",
    "🔹`GENSCANX`: ID de la predicción hecha con la herramienta GENSCAN.\n",
    "\n",
    "🔹`chromosome:GRCh38:5`: Versión del genoma GRCh38, cromosoma 5.\n",
    "\n",
    "🔹`122151991:122153085:1`: Coordenadas de la secuencia, en el sentido positivo (1).\n",
    "\n",
    "**Nota:** Existen 20 aminoácidos proteicos estándar y otros aminoacidos modificados postraduccionalmente (fosforilados, metilados, etc.) que no cambian la secuencia genética, pero sí la función de la proteína."
   ]
  },
  {
   "cell_type": "markdown",
   "id": "7e333283",
   "metadata": {},
   "source": [
    "**Ejemplo 3.2** \n",
    "\n",
    "Este es un archivo `.pep.all.fa`; contiene todas las proteínas conocidas y predichas, incluyendo predicciones ab initio, genes anotados con evidencia experimental, transcritos conocidos (de RNA-seq, ESTs, etc.)."
   ]
  },
  {
   "cell_type": "code",
   "execution_count": 31,
   "id": "baf1bd44",
   "metadata": {},
   "outputs": [
    {
     "name": "stdout",
     "output_type": "stream",
     "text": [
      "ID: ENSP00000451468.1\n",
      "\n",
      "Descripción: ENSP00000451468.1 pep chromosome:GRCh38:14:22462932:22465787:1 gene:ENSG00000211829.9 transcript:ENST00000390477.2 gene_biotype:TR_C_gene transcript_biotype:TR_C_gene gene_symbol:TRDC description:T cell receptor delta constant [Source:HGNC Symbol;Acc:HGNC:12253]\n",
      "\n",
      "Longitud: 154\n",
      "\n",
      "Secuencia: XSQPHTKPSVFVMKNGTNVACLVKEFYPKDIRINLVSSKKITEFDPAIVISPSGKYNAVKLGKYEDSNSVTCSVQHDNKTVHSTDFEVKTDSTDHVKPKETENTKQPSKSCHKPKAIVHTEKVNMMSLTVLGLRMLFAKTVAVNFLLTAKLFFL\n",
      "\n",
      "----------------------------------------\n",
      "ID: ENSP00000480116.1\n",
      "\n",
      "Descripción: ENSP00000480116.1 pep chromosome:GRCh38:14:22547506:22552156:1 gene:ENSG00000277734.8 transcript:ENST00000611116.2 gene_biotype:TR_C_gene transcript_biotype:TR_C_gene gene_symbol:TRAC description:T cell receptor alpha constant [Source:HGNC Symbol;Acc:HGNC:12029]\n",
      "\n",
      "Longitud: 141\n",
      "\n",
      "Secuencia: XIQNPDPAVYQLRDSKSSDKSVCLFTDFDSQTNVSQSKDSDVYITDKTVLDMRSMDFKSNSAVAWSNKSDFACANAFNNSIIPEDTFFPSPESSCDVKLVEKSFETDTNLNFQNLSVIGFRILLLKVAGFNLLMTLRLWSS\n",
      "\n",
      "----------------------------------------\n",
      "ID: ENSP00000487742.1\n",
      "\n",
      "Descripción: ENSP00000487742.1 pep chromosome:GRCh38:7:142791694:142793368:1 gene:ENSG00000211751.9 transcript:ENST00000633705.1 gene_biotype:TR_C_gene transcript_biotype:TR_C_gene gene_symbol:TRBC1 description:T cell receptor beta constant 1 [Source:HGNC Symbol;Acc:HGNC:12156]\n",
      "\n",
      "Longitud: 177\n",
      "\n",
      "Secuencia: XDLNKVFPPEVAVFEPSEAEISHTQKATLVCLATGFFPDHVELSWWVNGKEVHSGVSTDPQPLKEQPALNDSRYCLSSRLRVSATFWQNPRNHFRCQVQFYGLSENDEWTQDRAKPVTQIVSAEAWGRADCGFTSVSYQQGVLSATILYEILLGKATLYAVLVSALVLMAMVKRKDF\n",
      "\n",
      "----------------------------------------\n"
     ]
    }
   ],
   "source": [
    "from Bio import SeqIO\n",
    "\n",
    "archivo = \"ex-proteinseq-all.fa\" # Dataset tomado de https://www.ensembl.org/index.html\n",
    "records_iterator = SeqIO.parse(archivo, \"fasta\")\n",
    "\n",
    "for i in range(3):\n",
    "    record = next(records_iterator)\n",
    "    print(f\"ID: {record.id}\\n\")\n",
    "    print(f\"Descripción: {record.description}\\n\")\n",
    "    print(f\"Longitud: {len(record.seq)}\\n\")\n",
    "    print(f\"Secuencia: {record.seq}\\n\")\n",
    "    print(\"-\" * 40)"
   ]
  },
  {
   "cell_type": "markdown",
   "id": "3816340d",
   "metadata": {},
   "source": [
    "Para tener en cuenta:\n",
    "\n",
    "🔹`chromosome:GRCh38:14`: Versión del genoma GRCh38, cromosoma 14.\n",
    "\n",
    "🔹`22462932:22465787:1` : Coordenadas de la secuencia, sentido positivo (1), \n",
    "\n",
    "🔹`gene_biotype:TR_C_gen` : Tipo de gen: T-cell receptor constant (C).\n",
    "\n",
    "🔹`gene_symbol:TRDC` : Nombre simbólico del gen: TRDC.\n",
    "\n",
    "🔹`HGNC Symbol` :  Símbolo aprobado por HGNC (**HUGO Gene Nomenclature Committee**, la autoridad oficial para dar nombres a los genes humanos)."
   ]
  },
  {
   "cell_type": "markdown",
   "id": "205be7b0",
   "metadata": {},
   "source": [
    "**Notebook desarrollado por:** Mar (Grupo Amelia)  \n",
    "**GitHub:** [@marsilvaa](https://github.com/marsilvaa)   \n",
    "**Fecha:** Mayo 2025\n",
    "\n",
    "Este notebook forma parte del trabajo colaborativo del Semillero Investigativo de Modelos Generativos. \n",
    "Todos los derechos pertenecen a la organización y sus integrantes."
   ]
  }
 ],
 "metadata": {
  "kernelspec": {
   "display_name": "Python 3 (ipykernel)",
   "language": "python",
   "name": "python3"
  },
  "language_info": {
   "codemirror_mode": {
    "name": "ipython",
    "version": 3
   },
   "file_extension": ".py",
   "mimetype": "text/x-python",
   "name": "python",
   "nbconvert_exporter": "python",
   "pygments_lexer": "ipython3",
   "version": "3.11.5"
  }
 },
 "nbformat": 4,
 "nbformat_minor": 5
}
